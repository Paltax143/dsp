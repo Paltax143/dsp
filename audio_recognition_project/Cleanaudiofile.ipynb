{
  "nbformat": 4,
  "nbformat_minor": 0,
  "metadata": {
    "colab": {
      "provenance": [],
      "toc_visible": true,
      "authorship_tag": "ABX9TyPd7lr9zotBxoX54zFTVvlm",
      "include_colab_link": true
    },
    "kernelspec": {
      "name": "python3",
      "display_name": "Python 3"
    },
    "language_info": {
      "name": "python"
    }
  },
  "cells": [
    {
      "cell_type": "markdown",
      "metadata": {
        "id": "view-in-github",
        "colab_type": "text"
      },
      "source": [
        "<a href=\"https://colab.research.google.com/github/Paltax143/dsp/blob/main/audio_recognition_project/Cleanaudiofile.ipynb\" target=\"_parent\"><img src=\"https://colab.research.google.com/assets/colab-badge.svg\" alt=\"Open In Colab\"/></a>"
      ]
    },
    {
      "cell_type": "code",
      "execution_count": 2,
      "metadata": {
        "id": "ErZKepkpKXEG",
        "colab": {
          "base_uri": "https://localhost:8080/"
        },
        "outputId": "eb3cfa2f-c0fa-4f55-eaef-a3fc0b6f917d"
      },
      "outputs": [
        {
          "output_type": "stream",
          "name": "stdout",
          "text": [
            "--2024-10-17 21:05:34--  https://github.com/AllenDowney/ThinkDSP/raw/master/code/thinkdsp.py\n",
            "Resolving github.com (github.com)... 140.82.113.4\n",
            "Connecting to github.com (github.com)|140.82.113.4|:443... connected.\n",
            "HTTP request sent, awaiting response... 302 Found\n",
            "Location: https://raw.githubusercontent.com/AllenDowney/ThinkDSP/master/code/thinkdsp.py [following]\n",
            "--2024-10-17 21:05:35--  https://raw.githubusercontent.com/AllenDowney/ThinkDSP/master/code/thinkdsp.py\n",
            "Resolving raw.githubusercontent.com (raw.githubusercontent.com)... 185.199.111.133, 185.199.110.133, 185.199.108.133, ...\n",
            "Connecting to raw.githubusercontent.com (raw.githubusercontent.com)|185.199.111.133|:443... connected.\n",
            "HTTP request sent, awaiting response... 200 OK\n",
            "Length: 48574 (47K) [text/plain]\n",
            "Saving to: ‘thinkdsp.py’\n",
            "\n",
            "thinkdsp.py         100%[===================>]  47.44K  --.-KB/s    in 0.01s   \n",
            "\n",
            "2024-10-17 21:05:35 (4.01 MB/s) - ‘thinkdsp.py’ saved [48574/48574]\n",
            "\n"
          ]
        }
      ],
      "source": [
        "# Get thinkdsp.py\n",
        "\n",
        "import os\n",
        "\n",
        "if not os.path.exists('thinkdsp.py'):\n",
        "    !wget https://github.com/AllenDowney/ThinkDSP/raw/master/code/thinkdsp.py"
      ]
    },
    {
      "cell_type": "code",
      "source": [
        "!git clone https://github.com/AllenDowney/ThinkDSP.git\n"
      ],
      "metadata": {
        "colab": {
          "base_uri": "https://localhost:8080/"
        },
        "id": "Hco-VwdfTc1o",
        "outputId": "0a6d3456-ea91-4d89-d9f4-b8675492fc03"
      },
      "execution_count": 5,
      "outputs": [
        {
          "output_type": "stream",
          "name": "stdout",
          "text": [
            "fatal: destination path 'ThinkDSP' already exists and is not an empty directory.\n"
          ]
        }
      ]
    },
    {
      "cell_type": "code",
      "source": [
        "import librosa\n",
        "import numpy as np\n",
        "import soundfile as sf\n",
        "\n",
        "# Load the audio file\n",
        "audio, sample_rate = librosa.load('voiceECE 23.mp3', sr=44100)\n",
        "\n",
        "# Find the index of the first positive sample\n",
        "first_positive_index = np.where(audio > 0)[0]\n",
        "\n",
        "# Check if there's a positive sample\n",
        "if first_positive_index.size > 0:\n",
        "    # Crop the audio from the first positive sample to 44100 samples\n",
        "    start_index = first_positive_index[0]\n",
        "    cropped_audio = audio[start_index:start_index + 44100]\n",
        "\n",
        "    # Ensure we don't exceed the array length\n",
        "    if len(cropped_audio) < 44100:\n",
        "        print(\"Not enough samples to crop to 44100.\")\n",
        "    else:\n",
        "        # Write the cropped audio to a new file\n",
        "        sf.write('clean_ece23.wav', cropped_audio, sample_rate, subtype='PCM_24')\n",
        "else:\n",
        "    print(\"No positive samples found in the audio.\")"
      ],
      "metadata": {
        "id": "2uA8duM6T0PL"
      },
      "execution_count": 41,
      "outputs": []
    },
    {
      "cell_type": "code",
      "source": [
        "from thinkdsp import read_wave\n",
        "myVoice = read_wave('clean_ece3.wav')\n",
        "\n",
        "myVoice.plot()"
      ],
      "metadata": {
        "id": "jE0S8IX4up63",
        "outputId": "cca58a7a-cb2e-4c8e-f649-1f0a3798d590",
        "colab": {
          "base_uri": "https://localhost:8080/",
          "height": 430
        }
      },
      "execution_count": 40,
      "outputs": [
        {
          "output_type": "display_data",
          "data": {
            "text/plain": [
              "<Figure size 640x480 with 1 Axes>"
            ],
            "image/png": "[encoded data removed]"
          },
          "metadata": {}
        }
      ]
    },
    {
      "cell_type": "code",
      "source": [
        "import librosa\n",
        "\n",
        "# Load the audio file\n",
        "audio, sample_rate = librosa.load('clean_ece1.wav', sr=44100)\n",
        "\n",
        "# Get the number of samples\n",
        "num_samples = len(audio)\n",
        "\n",
        "print(f\"Number of samples: {num_samples}\")"
      ],
      "metadata": {
        "id": "b286FobsojUE",
        "outputId": "e998a093-e45a-4398-88fc-bc9a4e70d31c",
        "colab": {
          "base_uri": "https://localhost:8080/"
        }
      },
      "execution_count": 22,
      "outputs": [
        {
          "output_type": "stream",
          "name": "stdout",
          "text": [
            "Number of samples: 44100\n"
          ]
        }
      ]
    }
  ]
}