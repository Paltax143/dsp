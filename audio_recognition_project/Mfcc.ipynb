{
  "nbformat": 4,
  "nbformat_minor": 0,
  "metadata": {
    "colab": {
      "provenance": [],
      "authorship_tag": "ABX9TyM0uBg9T7MDLAOFYv2rVQWQ",
      "include_colab_link": true
    },
    "kernelspec": {
      "name": "python3",
      "display_name": "Python 3"
    },
    "language_info": {
      "name": "python"
    }
  },
  "cells": [
    {
      "cell_type": "markdown",
      "metadata": {
        "id": "view-in-github",
        "colab_type": "text"
      },
      "source": [
        "<a href=\"https://colab.research.google.com/github/Paltax143/dsp/blob/main/audio_recognition_project/Mfcc.ipynb\" target=\"_parent\"><img src=\"https://colab.research.google.com/assets/colab-badge.svg\" alt=\"Open In Colab\"/></a>"
      ]
    },
    {
      "cell_type": "code",
      "execution_count": 1,
      "metadata": {
        "colab": {
          "base_uri": "https://localhost:8080/"
        },
        "id": "QAsJMgrJ26-k",
        "outputId": "e283c9ff-0db6-465f-b86a-d9372fe1dbbf"
      },
      "outputs": [
        {
          "output_type": "stream",
          "name": "stdout",
          "text": [
            "Cloning into 'ThinkDSP'...\n",
            "remote: Enumerating objects: 2666, done.\u001b[K\n",
            "remote: Counting objects: 100% (85/85), done.\u001b[K\n",
            "remote: Compressing objects: 100% (46/46), done.\u001b[K\n",
            "remote: Total 2666 (delta 58), reused 49 (delta 39), pack-reused 2581 (from 3)\u001b[K\n",
            "Receiving objects: 100% (2666/2666), 244.75 MiB | 18.36 MiB/s, done.\n",
            "Resolving deltas: 100% (1442/1442), done.\n",
            "Updating files: 100% (309/309), done.\n"
          ]
        }
      ],
      "source": [
        "!git clone https://github.com/AllenDowney/ThinkDSP.git"
      ]
    },
    {
      "cell_type": "code",
      "source": [
        "# Get thinkdsp.py\n",
        "\n",
        "import os\n",
        "\n",
        "if not os.path.exists('thinkdsp.py'):\n",
        "    !wget https://github.com/AllenDowney/ThinkDSP/raw/master/code/thinkdsp.py"
      ],
      "metadata": {
        "colab": {
          "base_uri": "https://localhost:8080/"
        },
        "id": "fiVxX-5r3MXf",
        "outputId": "2143ba61-377b-465f-fe5b-ddd8e534300b"
      },
      "execution_count": 2,
      "outputs": [
        {
          "output_type": "stream",
          "name": "stdout",
          "text": [
            "--2025-02-10 03:18:04--  https://github.com/AllenDowney/ThinkDSP/raw/master/code/thinkdsp.py\n",
            "Resolving github.com (github.com)... 140.82.112.4\n",
            "Connecting to github.com (github.com)|140.82.112.4|:443... connected.\n",
            "HTTP request sent, awaiting response... 302 Found\n",
            "Location: https://raw.githubusercontent.com/AllenDowney/ThinkDSP/master/code/thinkdsp.py [following]\n",
            "--2025-02-10 03:18:05--  https://raw.githubusercontent.com/AllenDowney/ThinkDSP/master/code/thinkdsp.py\n",
            "Resolving raw.githubusercontent.com (raw.githubusercontent.com)... 185.199.108.133, 185.199.109.133, 185.199.110.133, ...\n",
            "Connecting to raw.githubusercontent.com (raw.githubusercontent.com)|185.199.108.133|:443... connected.\n",
            "HTTP request sent, awaiting response... 200 OK\n",
            "Length: 48554 (47K) [text/plain]\n",
            "Saving to: ‘thinkdsp.py’\n",
            "\n",
            "thinkdsp.py         100%[===================>]  47.42K  --.-KB/s    in 0.002s  \n",
            "\n",
            "2025-02-10 03:18:05 (22.9 MB/s) - ‘thinkdsp.py’ saved [48554/48554]\n",
            "\n"
          ]
        }
      ]
    },
    {
      "cell_type": "code",
      "source": [
        "import librosa\n",
        "import numpy as np\n",
        "\n",
        "def extract_mfcc_coefficients(audio_path, total_coeffs=1300, n_mfcc=13):\n",
        "    \"\"\"\n",
        "    Extracts the first 'total_coeffs' MFCC coefficients from an audio file.\n",
        "    \"\"\"\n",
        "    y, sr = librosa.load(audio_path, sr=None)\n",
        "\n",
        "    # Compute MFCCs with 13 coefficients per frame\n",
        "    mfcc = librosa.feature.mfcc(y=y, sr=sr, n_mfcc=n_mfcc)\n",
        "\n",
        "    # Flatten to get a single-dimensional array and take the first 1300 coefficients\n",
        "    mfcc_flat = mfcc.T.flatten()[:total_coeffs]\n",
        "\n",
        "    # If the flattened array has less than 1300 coefficients, pad with zeros\n",
        "    if len(mfcc_flat) < total_coeffs:\n",
        "        mfcc_flat = np.pad(mfcc_flat, (0, total_coeffs - len(mfcc_flat)), mode='constant')\n",
        "\n",
        "    return mfcc_flat\n",
        "\n",
        "def generate_mfcc_matrix(num_files=100, total_coeffs=1300, file_prefix=\"clean_ece\"):\n",
        "    \"\"\"\n",
        "    Loops through audio files named clean_ECE1.wav to clean_ECE100.wav,\n",
        "    extracts MFCCs, and generates a matrix with shape (100, 1300).\n",
        "    \"\"\"\n",
        "    mfcc_matrix = np.zeros((num_files, total_coeffs))\n",
        "\n",
        "    for i in range(1, num_files + 1):\n",
        "        audio_path = f\"{file_prefix}{i}.wav\"  # Generates names \"clean_ECE1.wav\", \"clean_ECE2.wav\", ..., \"clean_ECE100.wav\"\n",
        "        try:\n",
        "            # Extract the first 1300 MFCC coefficients for each file\n",
        "            mfcc_coeffs = extract_mfcc_coefficients(audio_path, total_coeffs=total_coeffs)\n",
        "            mfcc_matrix[i - 1, :] = mfcc_coeffs\n",
        "        except Exception as e:\n",
        "            print(f\"Could not process file {audio_path}: {e}\")\n",
        "\n",
        "    return mfcc_matrix\n",
        "\n",
        "def save_matrix_to_csv(matrix, output_path=\"final_mfcc_matrix.csv\"):\n",
        "    \"\"\"\n",
        "    Saves the MFCC matrix to a CSV file.\n",
        "    \"\"\"\n",
        "    np.savetxt(output_path, matrix, delimiter=',')\n",
        "    print(f\"Final MFCC matrix saved to {output_path}\")\n",
        "\n",
        "def main():\n",
        "    # Generate the MFCC matrix from 100 audio files\n",
        "    mfcc_matrix = generate_mfcc_matrix()\n",
        "\n",
        "    # Check matrix shape for confirmation\n",
        "    print(\"Final MFCC Matrix Shape: \", mfcc_matrix.shape)  # Should be (100, 1300)\n",
        "\n",
        "    # Save the matrix to a CSV file\n",
        "    save_matrix_to_csv(mfcc_matrix)\n",
        "\n",
        "if __name__ == \"__main__\":\n",
        "    main()\n"
      ],
      "metadata": {
        "colab": {
          "base_uri": "https://localhost:8080/"
        },
        "id": "m6UsaDLf3TkY",
        "outputId": "1447f5c1-1d9f-489f-ab7a-607558dec581"
      },
      "execution_count": 11,
      "outputs": [
        {
          "output_type": "stream",
          "name": "stdout",
          "text": [
            "Final MFCC Matrix Shape:  (100, 1300)\n",
            "Final MFCC matrix saved to final_mfcc_matrix.csv\n"
          ]
        }
      ]
    },
    {
      "cell_type": "code",
      "source": [
        "!find / -type f -name \"clean_ece*.wav\" 2>/dev/null\n"
      ],
      "metadata": {
        "id": "JN_2zE0J41WH"
      },
      "execution_count": 10,
      "outputs": []
    },
    {
      "cell_type": "code",
      "source": [
        "!pwd\n",
        "\n"
      ],
      "metadata": {
        "colab": {
          "base_uri": "https://localhost:8080/"
        },
        "id": "pQqZVDr55eP1",
        "outputId": "062f2f59-3722-40eb-a0f6-562a9b9b062e"
      },
      "execution_count": 6,
      "outputs": [
        {
          "output_type": "stream",
          "name": "stdout",
          "text": [
            "/content\n"
          ]
        }
      ]
    },
    {
      "cell_type": "markdown",
      "source": [],
      "metadata": {
        "id": "LgkiRg6b3BlH"
      }
    }
  ]
}