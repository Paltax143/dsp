{
  "nbformat": 4,
  "nbformat_minor": 0,
  "metadata": {
    "colab": {
      "provenance": [],
      "authorship_tag": "ABX9TyMMkhAZg3qxtMtXHh4HsbXB",
      "include_colab_link": true
    },
    "kernelspec": {
      "name": "python3",
      "display_name": "Python 3"
    },
    "language_info": {
      "name": "python"
    }
  },
  "cells": [
    {
      "cell_type": "markdown",
      "metadata": {
        "id": "view-in-github",
        "colab_type": "text"
      },
      "source": [
        "<a href=\"https://colab.research.google.com/github/Paltax143/dsp/blob/main/audio_recognition_project/audio_recognition_groupings.ipynb\" target=\"_parent\"><img src=\"https://colab.research.google.com/assets/colab-badge.svg\" alt=\"Open In Colab\"/></a>"
      ]
    },
    {
      "cell_type": "code",
      "execution_count": 1,
      "metadata": {
        "colab": {
          "base_uri": "https://localhost:8080/"
        },
        "id": "KvUBI_sB4Hms",
        "outputId": "b54b028f-b1e8-4863-8fe4-3226a939adba"
      },
      "outputs": [
        {
          "output_type": "stream",
          "name": "stdout",
          "text": [
            "--2025-02-10 03:30:36--  https://github.com/AllenDowney/ThinkDSP/raw/master/code/thinkdsp.py\n",
            "Resolving github.com (github.com)... 140.82.114.4\n",
            "Connecting to github.com (github.com)|140.82.114.4|:443... connected.\n",
            "HTTP request sent, awaiting response... 302 Found\n",
            "Location: https://raw.githubusercontent.com/AllenDowney/ThinkDSP/master/code/thinkdsp.py [following]\n",
            "--2025-02-10 03:30:36--  https://raw.githubusercontent.com/AllenDowney/ThinkDSP/master/code/thinkdsp.py\n",
            "Resolving raw.githubusercontent.com (raw.githubusercontent.com)... 185.199.108.133, 185.199.109.133, 185.199.110.133, ...\n",
            "Connecting to raw.githubusercontent.com (raw.githubusercontent.com)|185.199.108.133|:443... connected.\n",
            "HTTP request sent, awaiting response... 200 OK\n",
            "Length: 48554 (47K) [text/plain]\n",
            "Saving to: ‘thinkdsp.py’\n",
            "\n",
            "thinkdsp.py         100%[===================>]  47.42K  --.-KB/s    in 0.03s   \n",
            "\n",
            "2025-02-10 03:30:37 (1.60 MB/s) - ‘thinkdsp.py’ saved [48554/48554]\n",
            "\n"
          ]
        }
      ],
      "source": [
        "# Get thinkdsp.py\n",
        "\n",
        "import os\n",
        "\n",
        "if not os.path.exists('thinkdsp.py'):\n",
        "    !wget https://github.com/AllenDowney/ThinkDSP/raw/master/code/thinkdsp.py"
      ]
    },
    {
      "cell_type": "code",
      "source": [
        "!git clone https://github.com/AllenDowney/ThinkDSP.git"
      ],
      "metadata": {
        "colab": {
          "base_uri": "https://localhost:8080/"
        },
        "id": "m9AIq-Bv6H9V",
        "outputId": "a2d1ed3b-cd18-4a4c-8b1b-2a297c071b55"
      },
      "execution_count": 2,
      "outputs": [
        {
          "output_type": "stream",
          "name": "stdout",
          "text": [
            "Cloning into 'ThinkDSP'...\n",
            "remote: Enumerating objects: 2666, done.\u001b[K\n",
            "remote: Counting objects: 100% (85/85), done.\u001b[K\n",
            "remote: Compressing objects: 100% (46/46), done.\u001b[K\n",
            "remote: Total 2666 (delta 58), reused 49 (delta 39), pack-reused 2581 (from 3)\u001b[K\n",
            "Receiving objects: 100% (2666/2666), 244.75 MiB | 17.30 MiB/s, done.\n",
            "Resolving deltas: 100% (1442/1442), done.\n",
            "Updating files: 100% (309/309), done.\n"
          ]
        }
      ]
    },
    {
      "cell_type": "code",
      "source": [
        "import numpy as np\n",
        "from sklearn import svm\n",
        "import os\n",
        "import librosa\n",
        "import pathlib\n",
        "\n",
        "def extract():\n",
        "    x = True\n",
        "    #path to directory of the csv files\n",
        "    directory = \"G:\\\\My Drive\\\\Academics\\\\AC_24-25_1\\\\ECE 4 - Signals, Spectra, Signal Processing\\\\audio_recognition\"\n",
        "    with os.scandir(directory) as entries:\n",
        "        for entry in entries:\n",
        "            if entry.is_file():\n",
        "                filepath = entry.path\n",
        "                features = np.loadtxt(filepath,\n",
        "                                 delimiter=\",\", dtype=float)\n",
        "\n",
        "                filename = filepath.split('\\\\')\n",
        "                student = filename[6].split('.')[0]\n",
        "                if x:\n",
        "                    all_features = features\n",
        "                    all_class = np.full((100, 1), student)\n",
        "                    x = False\n",
        "                else:\n",
        "                    for i in features:\n",
        "                        all_features = np.append(all_features, [i], axis=0)\n",
        "                        all_class = np.append(all_class, student)\n",
        "    return all_features, all_class\n",
        "\n",
        "\n",
        "if name == 'main':\n",
        "    train_features, train_class = extract()\n",
        "    audio_classifier = svm.LinearSVC()\n",
        "    audio_classifier.fit(train_features, train_class)\n",
        "\n",
        "\n",
        "    #Cropping Activity\n",
        "\n",
        "    #path to the fresh sample file\n",
        "    path_to_audio = \"temporary.wav\"\n",
        "    audio, sample_rate = librosa.load(path_to_audio, sr=44100)\n",
        "    first_positive_index = np.where(audio > 0.12)[0]\n",
        "    # Check if there's a positive sample\n",
        "    if first_positive_index.size > 0:\n",
        "        # Crop the audio from the first positive sample to 44100 samples\n",
        "        start_index = first_positive_index[0]\n",
        "        cropped_audio = audio[start_index:start_index + 44100]\n",
        "        # Ensure we don't exceed the array length\n",
        "        if len(cropped_audio) < 44100:\n",
        "            print(\"Not enough samples to crop to 44100.\")\n",
        "        else:\n",
        "            # Write the cropped audio to a new file\n",
        "            sf.write(path_to_audio, cropped_audio, sample_rate, subtype='PCM_24')\n",
        "    else:\n",
        "        print(\"No positive samples found in the audio.\")\n",
        "\n",
        "\n",
        "    #CSV Activity\n",
        "    total_coeffs = 1300\n",
        "    n_mfcc = 13\n",
        "    y, sr = librosa.load(path_to_audio, sr=None)\n",
        "    mfcc = librosa.feature.mfcc(y=y, sr=sr, n_mfcc=n_mfcc)\n",
        "    mfcc_flat = mfcc.T.flatten()[:total_coeffs]\n",
        "    if len(mfcc_flat) < total_coeffs:\n",
        "        mfcc_flat = np.pad(mfcc_flat, (0, total_coeffs - len(mfcc_flat)), mode='constant')\n",
        "\n",
        "\n",
        "\n",
        "    student_name = audio_classifier.predict([mfcc_flat])\n",
        "    print(student_name)"
      ],
      "metadata": {
        "id": "nXgtu3f96JaD"
      },
      "execution_count": null,
      "outputs": []
    },
    {
      "cell_type": "code",
      "source": [],
      "metadata": {
        "id": "IkQQpiL16rYM"
      },
      "execution_count": null,
      "outputs": []
    }
  ]
}